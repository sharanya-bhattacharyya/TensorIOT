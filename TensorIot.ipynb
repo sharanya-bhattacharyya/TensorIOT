{
  "nbformat": 4,
  "nbformat_minor": 0,
  "metadata": {
    "colab": {
      "name": "TensorIot.ipynb",
      "provenance": []
    },
    "kernelspec": {
      "name": "python3",
      "display_name": "Python 3"
    },
    "language_info": {
      "name": "python"
    }
  },
  "cells": [
    {
      "cell_type": "code",
      "execution_count": 23,
      "metadata": {
        "colab": {
          "base_uri": "https://localhost:8080/",
          "height": 497
        },
        "id": "VpdahYoBCdFh",
        "outputId": "eb6414e4-3b0f-422f-c4a0-d95036032a60"
      },
      "outputs": [
        {
          "output_type": "stream",
          "name": "stdout",
          "text": [
            "\r0% [Working]\r            \rHit:1 https://cloud.r-project.org/bin/linux/ubuntu bionic-cran40/ InRelease\n",
            "\r0% [Connecting to archive.ubuntu.com] [Connecting to security.ubuntu.com (91.18\r                                                                               \rHit:2 https://developer.download.nvidia.com/compute/cuda/repos/ubuntu1804/x86_64  InRelease\n",
            "\r0% [Connecting to archive.ubuntu.com] [Connecting to security.ubuntu.com (91.18\r0% [1 InRelease gpgv 3,626 B] [Connecting to archive.ubuntu.com] [Connecting to\r                                                                               \rIgn:3 https://developer.download.nvidia.com/compute/machine-learning/repos/ubuntu1804/x86_64  InRelease\n",
            "\r0% [1 InRelease gpgv 3,626 B] [Connecting to archive.ubuntu.com] [Waiting for h\r                                                                               \rHit:4 https://developer.download.nvidia.com/compute/machine-learning/repos/ubuntu1804/x86_64  Release\n",
            "Get:5 http://security.ubuntu.com/ubuntu bionic-security InRelease [88.7 kB]\n",
            "Hit:6 http://ppa.launchpad.net/c2d4u.team/c2d4u4.0+/ubuntu bionic InRelease\n",
            "Hit:8 http://ppa.launchpad.net/cran/libgit2/ubuntu bionic InRelease\n",
            "Hit:9 http://ppa.launchpad.net/deadsnakes/ppa/ubuntu bionic InRelease\n",
            "Hit:10 http://archive.ubuntu.com/ubuntu bionic InRelease\n",
            "Get:11 http://archive.ubuntu.com/ubuntu bionic-updates InRelease [88.7 kB]\n",
            "Hit:12 http://ppa.launchpad.net/graphics-drivers/ppa/ubuntu bionic InRelease\n",
            "Get:13 http://archive.ubuntu.com/ubuntu bionic-backports InRelease [74.6 kB]\n",
            "Fetched 252 kB in 2s (120 kB/s)\n",
            "Reading package lists... Done\n",
            "sample_data\t\t   spark-2.3.1-bin-hadoop2.7.tgz    spark-warehouse\n",
            "spark-2.3.1-bin-hadoop2.7  spark-2.3.1-bin-hadoop2.7.tgz.1\n"
          ]
        },
        {
          "output_type": "execute_result",
          "data": {
            "text/plain": [
              "<pyspark.sql.session.SparkSession at 0x7fd6c0c4f750>"
            ],
            "text/html": [
              "\n",
              "            <div>\n",
              "                <p><b>SparkSession - in-memory</b></p>\n",
              "                \n",
              "        <div>\n",
              "            <p><b>SparkContext</b></p>\n",
              "\n",
              "            <p><a href=\"http://ef31f8bd6cba:4040\">Spark UI</a></p>\n",
              "\n",
              "            <dl>\n",
              "              <dt>Version</dt>\n",
              "                <dd><code>v2.3.1</code></dd>\n",
              "              <dt>Master</dt>\n",
              "                <dd><code>local[*]</code></dd>\n",
              "              <dt>AppName</dt>\n",
              "                <dd><code>pyspark-shell</code></dd>\n",
              "            </dl>\n",
              "        </div>\n",
              "        \n",
              "            </div>\n",
              "        "
            ]
          },
          "metadata": {},
          "execution_count": 23
        }
      ],
      "source": [
        "!apt-get update\n",
        "!apt-get install openjdk-8-jdk-headless -qq > /dev/null\n",
        "!wget -q http://archive.apache.org/dist/spark/spark-2.3.1/spark-2.3.1-bin-hadoop2.7.tgz\n",
        "!tar xf spark-2.3.1-bin-hadoop2.7.tgz\n",
        "!pip install -q findspark\n",
        "\n",
        "import os\n",
        "os.environ[\"JAVA_HOME\"] = \"/usr/lib/jvm/java-8-openjdk-amd64\"\n",
        "os.environ[\"SPARK_HOME\"] = \"/content/spark-2.3.1-bin-hadoop2.7\"\n",
        "\n",
        "!ls\n",
        "\n",
        "import findspark\n",
        "findspark.init()\n",
        "\n",
        "import pyspark\n",
        "from pyspark.sql import SparkSession\n",
        "spark = SparkSession.builder.getOrCreate() \n",
        "spark.conf.set(\"spark.sql.execution.arrow.pyspark.enabled\", \"true\")\n",
        "spark"
      ]
    },
    {
      "cell_type": "code",
      "source": [
        "reviewsDf = spark.read.json('/content/sample_data/CDs_and_Vinyl_5.json')"
      ],
      "metadata": {
        "id": "mxlWYe5_DPNC"
      },
      "execution_count": 2,
      "outputs": []
    },
    {
      "cell_type": "code",
      "source": [
        "reviewsDf.filter(reviewsDf.reviewTime.isNull()).show()"
      ],
      "metadata": {
        "colab": {
          "base_uri": "https://localhost:8080/"
        },
        "id": "qB4-3WAlWRSw",
        "outputId": "05c75124-d65e-403c-b7bd-8290fb28dbca"
      },
      "execution_count": 24,
      "outputs": [
        {
          "output_type": "stream",
          "name": "stdout",
          "text": [
            "+---------------+----+-------+-------+----------+----------+----------+------------+-------+--------------+\n",
            "|_corrupt_record|asin|helpful|overall|reviewText|reviewTime|reviewerID|reviewerName|summary|unixReviewTime|\n",
            "+---------------+----+-------+-------+----------+----------+----------+------------+-------+--------------+\n",
            "+---------------+----+-------+-------+----------+----------+----------+------------+-------+--------------+\n",
            "\n"
          ]
        }
      ]
    },
    {
      "cell_type": "code",
      "source": [
        "reviewsDf.show()"
      ],
      "metadata": {
        "colab": {
          "base_uri": "https://localhost:8080/"
        },
        "id": "4aMsJRiLQ6F2",
        "outputId": "8a9f8424-054b-4107-f880-486bf35b0e08"
      },
      "execution_count": 4,
      "outputs": [
        {
          "output_type": "stream",
          "name": "stdout",
          "text": [
            "+---------------+----------+--------+-------+--------------------+-----------+--------------+--------------------+--------------------+--------------+\n",
            "|_corrupt_record|      asin| helpful|overall|          reviewText| reviewTime|    reviewerID|        reviewerName|             summary|unixReviewTime|\n",
            "+---------------+----------+--------+-------+--------------------+-----------+--------------+--------------------+--------------------+--------------+\n",
            "|           null|0307141985|[14, 15]|    5.0|I don't know who ...| 10 6, 2005|A3IEV6R2B7VW5Z|         J. Anderson|LISTEN TO THE PUB...|    1128556800|\n",
            "|           null|0307141985|  [2, 2]|    4.0|Thanksgiving is d...|11 23, 2011|A2H3ISQ4QB95XN|       Joseph Brando|Rankin/Bass Does ...|    1322006400|\n",
            "|           null|0307141985|[38, 38]|    5.0|This is a Thanksg...|07 14, 2003| A6GMEO3VRY51S|            microjoe|Thanksgiving Holi...|    1058140800|\n",
            "|           null|0307141985|[15, 16]|    5.0|This is the BEST ...| 11 6, 2003|A3E102F6LPUF1J|Richard J. Goldsc...|BEST THANKSGIVING...|    1068076800|\n",
            "|           null|0307141985|[11, 12]|    5.0|It's been a numbe...| 03 1, 2006|A2JP0URFHXP6DO|          Tim Janson|A THANKSGIVING TR...|    1141171200|\n",
            "|           null|073890015X|  [0, 0]|    5.0|ok I guess a litt...|09 11, 2013|A31GBCW6YPY9OW|      Dave Childress|great late 90's c...|    1378857600|\n",
            "|           null|073890015X| [1, 16]|    5.0|I read one of the...|01 23, 2003|A3QAV7LALVG1F7|Dianne Papineau \"...|Future woodstock'...|    1043280000|\n",
            "|           null|073890015X|[10, 12]|    2.0|I paid, I went, I...|03 10, 2000|A1BFRIT70VHDF8|Doogie the Audio ...|2% Of The Real Wo...|     952646400|\n",
            "|           null|073890015X|  [0, 0]|    5.0|As a fan of filme...|04 13, 2009| AEFGR6NFTNWH0|  Emile Pinsonneault|Don't Get Hung Up...|    1239580800|\n",
            "|           null|073890015X|[11, 13]|    4.0|I dock this DVD o...|06 14, 2000|A24GD1AWG77IDJ|      E. Uthman \"Ed\"|Many great perfor...|     960940800|\n",
            "|           null|073890015X|  [2, 2]|    1.0|This would be the...|10 21, 1999|A1THF19PO0LXRD|         James Marsh|  Where's the DVD???|     940464000|\n",
            "|           null|073890015X|  [4, 5]|    3.0|If you were to ju...|02 18, 2006|A2KCJ6AACY6J0L|James Shannon Bussey|Good Bands, Bad S...|    1140220800|\n",
            "|           null|073890015X|  [2, 6]|    3.0|Okay, Woodstock i...|01 31, 2000|A1M2KLG6VJ73WI|         \"p-nut_311\"|50% good 50% sucked!|     949276800|\n",
            "|           null|073890015X|  [2, 2]|    5.0|Im surprised that...|08 31, 2007| ANKDCFV5320R3|Siddharth Vishwan...|       Excellent DVD|    1188518400|\n",
            "|           null|073890015X|[10, 10]|    3.0|I didn't go to Wo...|11 22, 2000|A24E0F4QEQ4VXM|   Spank Master 5000|             Average|     974851200|\n",
            "|           null|0738900370|  [0, 5]|    3.0|Joe was good. Eri...|03 27, 2004| AJ1S12KV4D5Z3|Andy Reddings \"El...|I love Joe and Er...|    1080345600|\n",
            "|           null|0738900370|  [5, 5]|    4.0|For those of you ...|05 20, 2004|A2AXP78ZZ42FVC|Charles Scott Ben...|    Good Stuff This!|    1085011200|\n",
            "|           null|0738900370|  [2, 5]|    5.0|JOE AND STEVE PLA...|09 30, 2005|A1CQS2B5PD3252|         Dave Keener|3 Great Guitar Pl...|    1128038400|\n",
            "|           null|0738900370|[16, 19]|    5.0|Joe Satriani, Ste...| 11 8, 1999|A1C384NS531WXA| Edward Gordon Brown|   A wonderful video|     942019200|\n",
            "|           null|0738900370|  [1, 2]|    5.0|G3 Live in Concer...| 06 2, 2005|A3VREOCVARPZRM|           Greatwood|         Perfection!|    1117670400|\n",
            "+---------------+----------+--------+-------+--------------------+-----------+--------------+--------------------+--------------------+--------------+\n",
            "only showing top 20 rows\n",
            "\n"
          ]
        }
      ]
    },
    {
      "cell_type": "code",
      "source": [
        "from pyspark.sql.functions import *\n",
        "df1 = reviewsDf.withColumn(\"reviewTime\",regexp_replace(\"reviewTime\",\" \",\"-\")).withColumn(\"reviewTime\",regexp_replace(\"reviewTime\",\",\",\"\"))"
      ],
      "metadata": {
        "id": "RmLV0e2FQ-wQ"
      },
      "execution_count": 29,
      "outputs": []
    },
    {
      "cell_type": "code",
      "source": [
        "df1.show()"
      ],
      "metadata": {
        "colab": {
          "base_uri": "https://localhost:8080/"
        },
        "id": "fIUOjQrkVlR1",
        "outputId": "ab9eb10a-6552-454e-dd6c-75800818649c"
      },
      "execution_count": 30,
      "outputs": [
        {
          "output_type": "stream",
          "name": "stdout",
          "text": [
            "+---------------+----------+--------+-------+--------------------+----------+--------------+--------------------+--------------------+--------------+\n",
            "|_corrupt_record|      asin| helpful|overall|          reviewText|reviewTime|    reviewerID|        reviewerName|             summary|unixReviewTime|\n",
            "+---------------+----------+--------+-------+--------------------+----------+--------------+--------------------+--------------------+--------------+\n",
            "|           null|0307141985|[14, 15]|    5.0|I don't know who ...| 10-6-2005|A3IEV6R2B7VW5Z|         J. Anderson|LISTEN TO THE PUB...|    1128556800|\n",
            "|           null|0307141985|  [2, 2]|    4.0|Thanksgiving is d...|11-23-2011|A2H3ISQ4QB95XN|       Joseph Brando|Rankin/Bass Does ...|    1322006400|\n",
            "|           null|0307141985|[38, 38]|    5.0|This is a Thanksg...|07-14-2003| A6GMEO3VRY51S|            microjoe|Thanksgiving Holi...|    1058140800|\n",
            "|           null|0307141985|[15, 16]|    5.0|This is the BEST ...| 11-6-2003|A3E102F6LPUF1J|Richard J. Goldsc...|BEST THANKSGIVING...|    1068076800|\n",
            "|           null|0307141985|[11, 12]|    5.0|It's been a numbe...| 03-1-2006|A2JP0URFHXP6DO|          Tim Janson|A THANKSGIVING TR...|    1141171200|\n",
            "|           null|073890015X|  [0, 0]|    5.0|ok I guess a litt...|09-11-2013|A31GBCW6YPY9OW|      Dave Childress|great late 90's c...|    1378857600|\n",
            "|           null|073890015X| [1, 16]|    5.0|I read one of the...|01-23-2003|A3QAV7LALVG1F7|Dianne Papineau \"...|Future woodstock'...|    1043280000|\n",
            "|           null|073890015X|[10, 12]|    2.0|I paid, I went, I...|03-10-2000|A1BFRIT70VHDF8|Doogie the Audio ...|2% Of The Real Wo...|     952646400|\n",
            "|           null|073890015X|  [0, 0]|    5.0|As a fan of filme...|04-13-2009| AEFGR6NFTNWH0|  Emile Pinsonneault|Don't Get Hung Up...|    1239580800|\n",
            "|           null|073890015X|[11, 13]|    4.0|I dock this DVD o...|06-14-2000|A24GD1AWG77IDJ|      E. Uthman \"Ed\"|Many great perfor...|     960940800|\n",
            "|           null|073890015X|  [2, 2]|    1.0|This would be the...|10-21-1999|A1THF19PO0LXRD|         James Marsh|  Where's the DVD???|     940464000|\n",
            "|           null|073890015X|  [4, 5]|    3.0|If you were to ju...|02-18-2006|A2KCJ6AACY6J0L|James Shannon Bussey|Good Bands, Bad S...|    1140220800|\n",
            "|           null|073890015X|  [2, 6]|    3.0|Okay, Woodstock i...|01-31-2000|A1M2KLG6VJ73WI|         \"p-nut_311\"|50% good 50% sucked!|     949276800|\n",
            "|           null|073890015X|  [2, 2]|    5.0|Im surprised that...|08-31-2007| ANKDCFV5320R3|Siddharth Vishwan...|       Excellent DVD|    1188518400|\n",
            "|           null|073890015X|[10, 10]|    3.0|I didn't go to Wo...|11-22-2000|A24E0F4QEQ4VXM|   Spank Master 5000|             Average|     974851200|\n",
            "|           null|0738900370|  [0, 5]|    3.0|Joe was good. Eri...|03-27-2004| AJ1S12KV4D5Z3|Andy Reddings \"El...|I love Joe and Er...|    1080345600|\n",
            "|           null|0738900370|  [5, 5]|    4.0|For those of you ...|05-20-2004|A2AXP78ZZ42FVC|Charles Scott Ben...|    Good Stuff This!|    1085011200|\n",
            "|           null|0738900370|  [2, 5]|    5.0|JOE AND STEVE PLA...|09-30-2005|A1CQS2B5PD3252|         Dave Keener|3 Great Guitar Pl...|    1128038400|\n",
            "|           null|0738900370|[16, 19]|    5.0|Joe Satriani, Ste...| 11-8-1999|A1C384NS531WXA| Edward Gordon Brown|   A wonderful video|     942019200|\n",
            "|           null|0738900370|  [1, 2]|    5.0|G3 Live in Concer...| 06-2-2005|A3VREOCVARPZRM|           Greatwood|         Perfection!|    1117670400|\n",
            "+---------------+----------+--------+-------+--------------------+----------+--------------+--------------------+--------------------+--------------+\n",
            "only showing top 20 rows\n",
            "\n"
          ]
        }
      ]
    },
    {
      "cell_type": "code",
      "source": [
        "from pyspark.sql.functions import col,udf\n",
        "from datetime import datetime\n",
        "from pyspark.sql.types import DateType\n"
      ],
      "metadata": {
        "id": "xQHOY6_VRd8u"
      },
      "execution_count": 20,
      "outputs": []
    },
    {
      "cell_type": "code",
      "source": [
        "df2=df1.select(col(\"asin\"),col(\"helpful\"),col(\"overall\"),col(\"reviewText\"),to_date(col(\"reviewTime\"),\"MM-dd-yyyy\").alias(\"reviewTime\"),col(\"reviewerID\"),col(\"reviewerName\"),col(\"summary\"),col(\"unixReviewTime\"))"
      ],
      "metadata": {
        "id": "3_igqfh8RtGB"
      },
      "execution_count": 45,
      "outputs": []
    },
    {
      "cell_type": "code",
      "source": [
        "df2.show()"
      ],
      "metadata": {
        "id": "9wfIbEdLXPTE",
        "colab": {
          "base_uri": "https://localhost:8080/"
        },
        "outputId": "e61189e7-7d74-4544-cf11-5825ff1efb79"
      },
      "execution_count": 46,
      "outputs": [
        {
          "output_type": "stream",
          "name": "stdout",
          "text": [
            "+----------+--------+-------+--------------------+----------+--------------+--------------------+--------------------+--------------+\n",
            "|      asin| helpful|overall|          reviewText|reviewTime|    reviewerID|        reviewerName|             summary|unixReviewTime|\n",
            "+----------+--------+-------+--------------------+----------+--------------+--------------------+--------------------+--------------+\n",
            "|0307141985|[14, 15]|    5.0|I don't know who ...|2005-10-06|A3IEV6R2B7VW5Z|         J. Anderson|LISTEN TO THE PUB...|    1128556800|\n",
            "|0307141985|  [2, 2]|    4.0|Thanksgiving is d...|2011-11-23|A2H3ISQ4QB95XN|       Joseph Brando|Rankin/Bass Does ...|    1322006400|\n",
            "|0307141985|[38, 38]|    5.0|This is a Thanksg...|2003-07-14| A6GMEO3VRY51S|            microjoe|Thanksgiving Holi...|    1058140800|\n",
            "|0307141985|[15, 16]|    5.0|This is the BEST ...|2003-11-06|A3E102F6LPUF1J|Richard J. Goldsc...|BEST THANKSGIVING...|    1068076800|\n",
            "|0307141985|[11, 12]|    5.0|It's been a numbe...|2006-03-01|A2JP0URFHXP6DO|          Tim Janson|A THANKSGIVING TR...|    1141171200|\n",
            "|073890015X|  [0, 0]|    5.0|ok I guess a litt...|2013-09-11|A31GBCW6YPY9OW|      Dave Childress|great late 90's c...|    1378857600|\n",
            "|073890015X| [1, 16]|    5.0|I read one of the...|2003-01-23|A3QAV7LALVG1F7|Dianne Papineau \"...|Future woodstock'...|    1043280000|\n",
            "|073890015X|[10, 12]|    2.0|I paid, I went, I...|2000-03-10|A1BFRIT70VHDF8|Doogie the Audio ...|2% Of The Real Wo...|     952646400|\n",
            "|073890015X|  [0, 0]|    5.0|As a fan of filme...|2009-04-13| AEFGR6NFTNWH0|  Emile Pinsonneault|Don't Get Hung Up...|    1239580800|\n",
            "|073890015X|[11, 13]|    4.0|I dock this DVD o...|2000-06-14|A24GD1AWG77IDJ|      E. Uthman \"Ed\"|Many great perfor...|     960940800|\n",
            "|073890015X|  [2, 2]|    1.0|This would be the...|1999-10-21|A1THF19PO0LXRD|         James Marsh|  Where's the DVD???|     940464000|\n",
            "|073890015X|  [4, 5]|    3.0|If you were to ju...|2006-02-18|A2KCJ6AACY6J0L|James Shannon Bussey|Good Bands, Bad S...|    1140220800|\n",
            "|073890015X|  [2, 6]|    3.0|Okay, Woodstock i...|2000-01-31|A1M2KLG6VJ73WI|         \"p-nut_311\"|50% good 50% sucked!|     949276800|\n",
            "|073890015X|  [2, 2]|    5.0|Im surprised that...|2007-08-31| ANKDCFV5320R3|Siddharth Vishwan...|       Excellent DVD|    1188518400|\n",
            "|073890015X|[10, 10]|    3.0|I didn't go to Wo...|2000-11-22|A24E0F4QEQ4VXM|   Spank Master 5000|             Average|     974851200|\n",
            "|0738900370|  [0, 5]|    3.0|Joe was good. Eri...|2004-03-27| AJ1S12KV4D5Z3|Andy Reddings \"El...|I love Joe and Er...|    1080345600|\n",
            "|0738900370|  [5, 5]|    4.0|For those of you ...|2004-05-20|A2AXP78ZZ42FVC|Charles Scott Ben...|    Good Stuff This!|    1085011200|\n",
            "|0738900370|  [2, 5]|    5.0|JOE AND STEVE PLA...|2005-09-30|A1CQS2B5PD3252|         Dave Keener|3 Great Guitar Pl...|    1128038400|\n",
            "|0738900370|[16, 19]|    5.0|Joe Satriani, Ste...|1999-11-08|A1C384NS531WXA| Edward Gordon Brown|   A wonderful video|     942019200|\n",
            "|0738900370|  [1, 2]|    5.0|G3 Live in Concer...|2005-06-02|A3VREOCVARPZRM|           Greatwood|         Perfection!|    1117670400|\n",
            "+----------+--------+-------+--------------------+----------+--------------+--------------------+--------------------+--------------+\n",
            "only showing top 20 rows\n",
            "\n"
          ]
        }
      ]
    },
    {
      "cell_type": "code",
      "source": [
        "df2.printSchema()"
      ],
      "metadata": {
        "colab": {
          "base_uri": "https://localhost:8080/"
        },
        "id": "pIjxFHsQbXPY",
        "outputId": "35a90d34-9ce4-48a5-f669-f75c4077d5cb"
      },
      "execution_count": 47,
      "outputs": [
        {
          "output_type": "stream",
          "name": "stdout",
          "text": [
            "root\n",
            " |-- asin: string (nullable = true)\n",
            " |-- helpful: array (nullable = true)\n",
            " |    |-- element: long (containsNull = true)\n",
            " |-- overall: double (nullable = true)\n",
            " |-- reviewText: string (nullable = true)\n",
            " |-- reviewTime: date (nullable = true)\n",
            " |-- reviewerID: string (nullable = true)\n",
            " |-- reviewerName: string (nullable = true)\n",
            " |-- summary: string (nullable = true)\n",
            " |-- unixReviewTime: long (nullable = true)\n",
            "\n"
          ]
        }
      ]
    },
    {
      "cell_type": "code",
      "source": [
        "df2.to_sql('Review_table', engine, if_exists='replace')"
      ],
      "metadata": {
        "id": "NWnNSMVaex9D"
      },
      "execution_count": null,
      "outputs": []
    },
    {
      "cell_type": "code",
      "source": [
        "df2.write.parquet(\"/content/sample_data/Reviews.parquet\") "
      ],
      "metadata": {
        "id": "px1pUiNmiG3j"
      },
      "execution_count": 48,
      "outputs": []
    },
    {
      "cell_type": "code",
      "source": [
        ""
      ],
      "metadata": {
        "id": "jxGIBLWgiG_m"
      },
      "execution_count": null,
      "outputs": []
    }
  ]
}